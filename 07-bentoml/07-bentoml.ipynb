{
 "cells": [
  {
   "cell_type": "code",
   "execution_count": 1,
   "metadata": {},
   "outputs": [
    {
     "name": "stdout",
     "output_type": "stream",
     "text": [
      "--2022-10-24 19:55:06--  https://raw.githubusercontent.com/gastonstat/CreditScoring/master/CreditScoring.csv\n",
      "Resolving raw.githubusercontent.com (raw.githubusercontent.com)... 185.199.109.133, 185.199.111.133, 185.199.108.133, ...\n",
      "Connecting to raw.githubusercontent.com (raw.githubusercontent.com)|185.199.109.133|:443... connected.\n",
      "HTTP request sent, awaiting response... 200 OK\n",
      "Length: 182489 (178K) [text/plain]\n",
      "Saving to: ‘CreditScoring.csv’\n",
      "\n",
      "CreditScoring.csv   100%[===================>] 178,21K   787KB/s    in 0,2s    \n",
      "\n",
      "2022-10-24 19:55:06 (787 KB/s) - ‘CreditScoring.csv’ saved [182489/182489]\n",
      "\n"
     ]
    }
   ],
   "source": [
    "!wget https://raw.githubusercontent.com/gastonstat/CreditScoring/master/CreditScoring.csv"
   ]
  },
  {
   "cell_type": "code",
   "execution_count": 4,
   "metadata": {
    "scrolled": true
   },
   "outputs": [],
   "source": [
    "# !pip install bentoml"
   ]
  },
  {
   "cell_type": "code",
   "execution_count": 5,
   "metadata": {},
   "outputs": [],
   "source": [
    "import pandas as pd\n",
    "import numpy as np\n",
    "import xgboost as xgb\n",
    "import bentoml\n",
    "from sklearn.feature_extraction import DictVectorizer\n",
    "from sklearn.metrics import roc_auc_score\n",
    "from sklearn.model_selection import train_test_split"
   ]
  },
  {
   "cell_type": "markdown",
   "metadata": {},
   "source": [
    "## Q1"
   ]
  },
  {
   "cell_type": "code",
   "execution_count": 8,
   "metadata": {},
   "outputs": [
    {
     "data": {
      "text/plain": [
       "'1.0.7'"
      ]
     },
     "execution_count": 8,
     "metadata": {},
     "output_type": "execute_result"
    }
   ],
   "source": [
    "bentoml.__version__"
   ]
  },
  {
   "cell_type": "markdown",
   "metadata": {},
   "source": [
    "## Q2"
   ]
  },
  {
   "cell_type": "code",
   "execution_count": 17,
   "metadata": {},
   "outputs": [
    {
     "name": "stdout",
     "output_type": "stream",
     "text": [
      "File Size in kiloBytes is 197\n"
     ]
    }
   ],
   "source": [
    "import os\n",
    "\n",
    "file_name = \"/home/ska/bentoml/models/credit_risk_model/fizdzgctx2p54ooz/saved_model.ubj\"\n",
    "\n",
    "file_stats = os.stat(file_name)\n",
    "print(f'File Size in kiloBytes is {file_stats.st_size / 1024:.0f}')"
   ]
  },
  {
   "cell_type": "code",
   "execution_count": 18,
   "metadata": {},
   "outputs": [
    {
     "name": "stdout",
     "output_type": "stream",
     "text": [
      "\u001b[1m \u001b[0m\u001b[1mTag                         \u001b[0m\u001b[1m \u001b[0m\u001b[1m \u001b[0m\u001b[1mModule         \u001b[0m\u001b[1m \u001b[0m\u001b[1m \u001b[0m\u001b[1mSize      \u001b[0m\u001b[1m \u001b[0m\u001b[1m \u001b[0m\u001b[1mCreation Time      \u001b[0m\u001b[1m \u001b[0m\r\n",
      " credit_risk_model:fizdzgctx…  bentoml.xgboost  197.77 KiB  2022-10-24 20:06:13 \r\n"
     ]
    }
   ],
   "source": [
    "!bentoml models list"
   ]
  },
  {
   "cell_type": "markdown",
   "metadata": {},
   "source": [
    "### Answer\n",
    "```\n",
    "924kb\n",
    "724kb\n",
    "114kb   <--\n",
    "8kb\n",
    "```"
   ]
  },
  {
   "cell_type": "markdown",
   "metadata": {},
   "source": [
    "## Q3"
   ]
  },
  {
   "cell_type": "code",
   "execution_count": 19,
   "metadata": {},
   "outputs": [
    {
     "name": "stdout",
     "output_type": "stream",
     "text": [
      "Requirement already satisfied: pydantic in /home/ska/miniconda3/envs/jupyter/lib/python3.10/site-packages (1.9.1)\r\n",
      "Requirement already satisfied: typing-extensions>=3.7.4.3 in /home/ska/miniconda3/envs/jupyter/lib/python3.10/site-packages (from pydantic) (4.1.1)\r\n"
     ]
    }
   ],
   "source": [
    "!pip install pydantic"
   ]
  },
  {
   "cell_type": "code",
   "execution_count": 2,
   "metadata": {},
   "outputs": [],
   "source": [
    "\"\"\"{\n",
    "    \"name\": \"Tim\",\n",
    "    \"age\": 37,\n",
    "    \"country\": \"US\",\n",
    "    \"rating\": 3.14\n",
    "}\"\"\"\n",
    "\n",
    "from pydantic import BaseModel\n",
    "\n",
    "class UserProfile(BaseModel):\n",
    "    name: str\n",
    "    age: int\n",
    "    country: str\n",
    "    rating: float"
   ]
  },
  {
   "cell_type": "markdown",
   "metadata": {},
   "source": [
    "## Q4"
   ]
  },
  {
   "cell_type": "code",
   "execution_count": 20,
   "metadata": {},
   "outputs": [
    {
     "name": "stdout",
     "output_type": "stream",
     "text": [
      "  % Total    % Received % Xferd  Average Speed   Time    Time     Time  Current\n",
      "                                 Dload  Upload   Total   Spent    Left  Speed\n",
      "100  1724  100  1724    0     0   1165      0  0:00:01  0:00:01 --:--:--  1166\n"
     ]
    }
   ],
   "source": [
    "!curl -O https://s3.us-west-2.amazonaws.com/bentoml.com/mlzoomcamp/coolmodel.bentomodel"
   ]
  },
  {
   "cell_type": "code",
   "execution_count": 21,
   "metadata": {},
   "outputs": [
    {
     "name": "stdout",
     "output_type": "stream",
     "text": [
      "Model(tag=\"mlzoomcamp_homework:qtzdz3slg6mwwdu5\") imported\r\n"
     ]
    }
   ],
   "source": [
    "!bentoml models import coolmodel.bentomodel"
   ]
  },
  {
   "cell_type": "code",
   "execution_count": 22,
   "metadata": {},
   "outputs": [
    {
     "name": "stdout",
     "output_type": "stream",
     "text": [
      "\u001b[38;2;249;38;114;48;2;39;40;34mname\u001b[0m\u001b[38;2;248;248;242;48;2;39;40;34m:\u001b[0m\u001b[38;2;248;248;242;48;2;39;40;34m \u001b[0m\u001b[48;2;39;40;34mmlzoomcamp_homework\u001b[0m\u001b[48;2;39;40;34m                                                       \u001b[0m\r\n",
      "\u001b[38;2;249;38;114;48;2;39;40;34mversion\u001b[0m\u001b[38;2;248;248;242;48;2;39;40;34m:\u001b[0m\u001b[38;2;248;248;242;48;2;39;40;34m \u001b[0m\u001b[48;2;39;40;34mqtzdz3slg6mwwdu5\u001b[0m\u001b[48;2;39;40;34m                                                       \u001b[0m\r\n",
      "\u001b[38;2;249;38;114;48;2;39;40;34mmodule\u001b[0m\u001b[38;2;248;248;242;48;2;39;40;34m:\u001b[0m\u001b[38;2;248;248;242;48;2;39;40;34m \u001b[0m\u001b[48;2;39;40;34mbentoml.sklearn\u001b[0m\u001b[48;2;39;40;34m                                                         \u001b[0m\r\n",
      "\u001b[38;2;249;38;114;48;2;39;40;34mlabels\u001b[0m\u001b[38;2;248;248;242;48;2;39;40;34m:\u001b[0m\u001b[38;2;248;248;242;48;2;39;40;34m \u001b[0m\u001b[48;2;39;40;34m{\u001b[0m\u001b[48;2;39;40;34m}\u001b[0m\u001b[48;2;39;40;34m                                                                      \u001b[0m\r\n",
      "\u001b[38;2;249;38;114;48;2;39;40;34moptions\u001b[0m\u001b[38;2;248;248;242;48;2;39;40;34m:\u001b[0m\u001b[38;2;248;248;242;48;2;39;40;34m \u001b[0m\u001b[48;2;39;40;34m{\u001b[0m\u001b[48;2;39;40;34m}\u001b[0m\u001b[48;2;39;40;34m                                                                     \u001b[0m\r\n",
      "\u001b[38;2;249;38;114;48;2;39;40;34mmetadata\u001b[0m\u001b[38;2;248;248;242;48;2;39;40;34m:\u001b[0m\u001b[38;2;248;248;242;48;2;39;40;34m \u001b[0m\u001b[48;2;39;40;34m{\u001b[0m\u001b[48;2;39;40;34m}\u001b[0m\u001b[48;2;39;40;34m                                                                    \u001b[0m\r\n",
      "\u001b[38;2;249;38;114;48;2;39;40;34mcontext\u001b[0m\u001b[38;2;248;248;242;48;2;39;40;34m:\u001b[0m\u001b[48;2;39;40;34m                                                                        \u001b[0m\r\n",
      "\u001b[38;2;248;248;242;48;2;39;40;34m  \u001b[0m\u001b[38;2;249;38;114;48;2;39;40;34mframework_name\u001b[0m\u001b[38;2;248;248;242;48;2;39;40;34m:\u001b[0m\u001b[38;2;248;248;242;48;2;39;40;34m \u001b[0m\u001b[48;2;39;40;34msklearn\u001b[0m\u001b[48;2;39;40;34m                                                       \u001b[0m\r\n",
      "\u001b[38;2;248;248;242;48;2;39;40;34m  \u001b[0m\u001b[38;2;249;38;114;48;2;39;40;34mframework_versions\u001b[0m\u001b[38;2;248;248;242;48;2;39;40;34m:\u001b[0m\u001b[48;2;39;40;34m                                                           \u001b[0m\r\n",
      "\u001b[38;2;248;248;242;48;2;39;40;34m    \u001b[0m\u001b[38;2;249;38;114;48;2;39;40;34mscikit-learn\u001b[0m\u001b[38;2;248;248;242;48;2;39;40;34m:\u001b[0m\u001b[38;2;248;248;242;48;2;39;40;34m \u001b[0m\u001b[48;2;39;40;34m1.1.1\u001b[0m\u001b[48;2;39;40;34m                                                         \u001b[0m\r\n",
      "\u001b[38;2;248;248;242;48;2;39;40;34m  \u001b[0m\u001b[38;2;249;38;114;48;2;39;40;34mbentoml_version\u001b[0m\u001b[38;2;248;248;242;48;2;39;40;34m:\u001b[0m\u001b[38;2;248;248;242;48;2;39;40;34m \u001b[0m\u001b[48;2;39;40;34m1.0.7\u001b[0m\u001b[48;2;39;40;34m                                                        \u001b[0m\r\n",
      "\u001b[38;2;248;248;242;48;2;39;40;34m  \u001b[0m\u001b[38;2;249;38;114;48;2;39;40;34mpython_version\u001b[0m\u001b[38;2;248;248;242;48;2;39;40;34m:\u001b[0m\u001b[38;2;248;248;242;48;2;39;40;34m \u001b[0m\u001b[48;2;39;40;34m3.9.12\u001b[0m\u001b[48;2;39;40;34m                                                        \u001b[0m\r\n",
      "\u001b[38;2;249;38;114;48;2;39;40;34msignatures\u001b[0m\u001b[38;2;248;248;242;48;2;39;40;34m:\u001b[0m\u001b[48;2;39;40;34m                                                                     \u001b[0m\r\n",
      "\u001b[38;2;248;248;242;48;2;39;40;34m  \u001b[0m\u001b[38;2;249;38;114;48;2;39;40;34mpredict\u001b[0m\u001b[38;2;248;248;242;48;2;39;40;34m:\u001b[0m\u001b[48;2;39;40;34m                                                                      \u001b[0m\r\n",
      "\u001b[38;2;248;248;242;48;2;39;40;34m    \u001b[0m\u001b[38;2;249;38;114;48;2;39;40;34mbatchable\u001b[0m\u001b[38;2;248;248;242;48;2;39;40;34m:\u001b[0m\u001b[38;2;248;248;242;48;2;39;40;34m \u001b[0m\u001b[48;2;39;40;34mfalse\u001b[0m\u001b[48;2;39;40;34m                                                            \u001b[0m\r\n",
      "\u001b[38;2;249;38;114;48;2;39;40;34mapi_version\u001b[0m\u001b[38;2;248;248;242;48;2;39;40;34m:\u001b[0m\u001b[38;2;248;248;242;48;2;39;40;34m \u001b[0m\u001b[48;2;39;40;34mv1\u001b[0m\u001b[48;2;39;40;34m                                                                 \u001b[0m\r\n",
      "\u001b[38;2;249;38;114;48;2;39;40;34mcreation_time\u001b[0m\u001b[38;2;248;248;242;48;2;39;40;34m:\u001b[0m\u001b[38;2;248;248;242;48;2;39;40;34m \u001b[0m\u001b[38;2;230;219;116;48;2;39;40;34m'\u001b[0m\u001b[38;2;230;219;116;48;2;39;40;34m2022-10-13T20:42:14.411084+00:00\u001b[0m\u001b[38;2;230;219;116;48;2;39;40;34m'\u001b[0m\u001b[48;2;39;40;34m                               \u001b[0m\r\n",
      "\u001b[48;2;39;40;34m                                                                                \u001b[0m\r\n"
     ]
    }
   ],
   "source": [
    "!bentoml models get mlzoomcamp_homework:qtzdz3slg6mwwdu5"
   ]
  },
  {
   "cell_type": "markdown",
   "metadata": {},
   "source": [
    "### Answer\n",
    "```\n",
    "1.1.1   <--\n",
    "1.1.2\n",
    "1.1.3\n",
    "1.1.4\n",
    "1.1.5\n",
    "```"
   ]
  },
  {
   "cell_type": "markdown",
   "metadata": {},
   "source": [
    "## Q5"
   ]
  },
  {
   "cell_type": "markdown",
   "metadata": {},
   "source": [
    "`service.py`\n",
    "```\n",
    "import bentoml\n",
    "from bentoml.io import JSON, NumpyNdarray\n",
    "from pydantic import BaseModel\n",
    "\n",
    "\n",
    "class UserProfile(BaseModel):\n",
    "    name: str\n",
    "    age: int\n",
    "    country: str\n",
    "    rating: float\n",
    "\n",
    "\n",
    "model_ref = bentoml.sklearn.get(\"mlzoomcamp_homework:latest\")\n",
    "\n",
    "model_runner = model_ref.to_runner()\n",
    "service = bentoml.Service(\"mlzoomcamp_homework\", runners=[model_runner])\n",
    "\n",
    "@service.api(input=NumpyNdarray(), output=NumpyNdarray())\n",
    "def classify(input_data):\n",
    "    return model_runner.run(input_data)\n",
    "```\n",
    "\n",
    "**Run in the CLI**  \n",
    "`bentoml serve service.py:service`"
   ]
  },
  {
   "cell_type": "code",
   "execution_count": 24,
   "metadata": {},
   "outputs": [
    {
     "name": "stdout",
     "output_type": "stream",
     "text": [
      "[1]"
     ]
    }
   ],
   "source": [
    "!curl -X POST -H \"Content-Type: application/json\" --data \"[[6.4, 3.5, 4.5, 1.2]]\" http://0.0.0.0:3000/classify"
   ]
  },
  {
   "cell_type": "markdown",
   "metadata": {},
   "source": [
    "### Answer\n",
    "```\n",
    "0\n",
    "1   <--\n",
    "2\n",
    "3\n",
    "```"
   ]
  },
  {
   "cell_type": "markdown",
   "metadata": {},
   "source": [
    "## Q6"
   ]
  },
  {
   "cell_type": "code",
   "execution_count": 26,
   "metadata": {},
   "outputs": [],
   "source": [
    "# !pip install locust"
   ]
  },
  {
   "cell_type": "code",
   "execution_count": 27,
   "metadata": {},
   "outputs": [
    {
     "name": "stdout",
     "output_type": "stream",
     "text": [
      "  % Total    % Received % Xferd  Average Speed   Time    Time     Time  Current\n",
      "                                 Dload  Upload   Total   Spent    Left  Speed\n",
      "100  1728  100  1728    0     0   1282      0  0:00:01  0:00:01 --:--:--  1281\n"
     ]
    }
   ],
   "source": [
    "!curl -O https://s3.us-west-2.amazonaws.com/bentoml.com/mlzoomcamp/coolmodel2.bentomodel"
   ]
  },
  {
   "cell_type": "code",
   "execution_count": 28,
   "metadata": {},
   "outputs": [
    {
     "name": "stdout",
     "output_type": "stream",
     "text": [
      "Model(tag=\"mlzoomcamp_homework:jsi67fslz6txydu5\") imported\r\n"
     ]
    }
   ],
   "source": [
    "!bentoml models import coolmodel2.bentomodel"
   ]
  },
  {
   "cell_type": "markdown",
   "metadata": {},
   "source": [
    "**mlzoomcamp_homework:qtzdz3slg6mwwdu5**\n",
    "\n",
    "**100 Number of users (peak concurrency)  \n",
    "10  Spawn rate (users started/second)**\n",
    "\n",
    "```\n",
    "Type     Name                                                                          # reqs      # fails |    Avg     Min     Max    Med |   req/s  failures/s\n",
    "--------|----------------------------------------------------------------------------|-------|-------------|-------|-------|-------|-------|--------|-----------\n",
    "POST     /classify                                                                       8113     2(0.02%) |     18       6     197     12 |   93.19        0.02\n",
    "--------|----------------------------------------------------------------------------|-------|-------------|-------|-------|-------|-------|--------|-----------\n",
    "         Aggregated                                                                      8113     2(0.02%) |     18       6     197     12 |   93.19        0.02\n",
    "\n",
    "Response time percentiles (approximated)\n",
    "Type     Name                                                                                  50%    66%    75%    80%    90%    95%    98%    99%  99.9% 99.99%   100% # reqs\n",
    "--------|--------------------------------------------------------------------------------|--------|------|------|------|------|------|------|------|------|------|------|------\n",
    "POST     /classify                                                                              12     17     22     25     36     49     68     91    170    200    200   8113\n",
    "--------|--------------------------------------------------------------------------------|--------|------|------|------|------|------|------|------|------|------|------|------\n",
    "         Aggregated                                                                             12     17     22     25     36     49     68     91    170    200    200   8113\n",
    "\n",
    "```"
   ]
  },
  {
   "cell_type": "markdown",
   "metadata": {},
   "source": [
    "**mlzoomcamp_homework:jsi67fslz6txydu5**\n",
    "\n",
    "**100 Number of users (peak concurrency)  \n",
    "10  Spawn rate (users started/second)**\n",
    "\n",
    "```\n",
    "Type     Name                                                                          # reqs      # fails |    Avg     Min     Max    Med |   req/s  failures/s\n",
    "--------|----------------------------------------------------------------------------|-------|-------------|-------|-------|-------|-------|--------|-----------\n",
    "POST     /classify                                                                       5793     0(0.00%) |     19       6     148     14 |   91.09        0.00\n",
    "--------|----------------------------------------------------------------------------|-------|-------------|-------|-------|-------|-------|--------|-----------\n",
    "         Aggregated                                                                      5793     0(0.00%) |     19       6     148     14 |   91.09        0.00\n",
    "\n",
    "Response time percentiles (approximated)\n",
    "Type     Name                                                                                  50%    66%    75%    80%    90%    95%    98%    99%  99.9% 99.99%   100% # reqs\n",
    "--------|--------------------------------------------------------------------------------|--------|------|------|------|------|------|------|------|------|------|------|------\n",
    "POST     /classify                                                                              14     18     22     26     37     47     63     77    130    150    150   5793\n",
    "--------|--------------------------------------------------------------------------------|--------|------|------|------|------|------|------|------|------|------|------|------\n",
    "         Aggregated                                                                             14     18     22     26     37     47     63     77    130    150    150   5793\n",
    "\n",
    "```"
   ]
  },
  {
   "cell_type": "markdown",
   "metadata": {},
   "source": [
    "**mlzoomcamp_homework:qtzdz3slg6mwwdu5**\n",
    "\n",
    "**300 Number of users (peak concurrency)  \n",
    "50  Spawn rate (users started/second)**\n",
    "\n",
    "```\n",
    "Type     Name                                                                          # reqs      # fails |    Avg     Min     Max    Med |   req/s  failures/s\n",
    "--------|----------------------------------------------------------------------------|-------|-------------|-------|-------|-------|-------|--------|-----------\n",
    "POST     /classify                                                                      11432     0(0.00%) |     51       6    1323     17 |  270.35        0.00\n",
    "--------|----------------------------------------------------------------------------|-------|-------------|-------|-------|-------|-------|--------|-----------\n",
    "         Aggregated                                                                     11432     0(0.00%) |     51       6    1323     17 |  270.35        0.00\n",
    "\n",
    "Response time percentiles (approximated)\n",
    "Type     Name                                                                                  50%    66%    75%    80%    90%    95%    98%    99%  99.9% 99.99%   100% # reqs\n",
    "--------|--------------------------------------------------------------------------------|--------|------|------|------|------|------|------|------|------|------|------|------\n",
    "POST     /classify                                                                              17     23     30     39    110    250    420    670   1200   1300   1300  11432\n",
    "--------|--------------------------------------------------------------------------------|--------|------|------|------|------|------|------|------|------|------|------|------\n",
    "         Aggregated                                                                             17     23     30     39    110    250    420    670   1200   1300   1300  11432\n",
    "```"
   ]
  },
  {
   "cell_type": "markdown",
   "metadata": {},
   "source": [
    "**mlzoomcamp_homework:jsi67fslz6txydu5**\n",
    "\n",
    "**300 Number of users (peak concurrency)  \n",
    "50 Spawn rate (users started/second)**\n",
    "\n",
    "```\n",
    "Type     Name                                                                          # reqs      # fails |    Avg     Min     Max    Med |   req/s  failures/s\n",
    "--------|----------------------------------------------------------------------------|-------|-------------|-------|-------|-------|-------|--------|-----------\n",
    "POST     /classify                                                                      13797     0(0.00%) |     72       9     529     40 |  267.23        0.00\n",
    "--------|----------------------------------------------------------------------------|-------|-------------|-------|-------|-------|-------|--------|-----------\n",
    "         Aggregated                                                                     13797     0(0.00%) |     72       9     529     40 |  267.23        0.00\n",
    "\n",
    "Response time percentiles (approximated)\n",
    "Type     Name                                                                                  50%    66%    75%    80%    90%    95%    98%    99%  99.9% 99.99%   100% # reqs\n",
    "--------|--------------------------------------------------------------------------------|--------|------|------|------|------|------|------|------|------|------|------|------\n",
    "POST     /classify                                                                              40     62     89    110    180    240    300    340    410    480    530  13797\n",
    "--------|--------------------------------------------------------------------------------|--------|------|------|------|------|------|------|------|------|------|------|------\n",
    "         Aggregated                                                                             40     62     89    110    180    240    300    340    410    480    530  13797\n",
    "\n",
    "```"
   ]
  },
  {
   "cell_type": "markdown",
   "metadata": {},
   "source": [
    "### Answer\n",
    "\n",
    "The second model has better performance"
   ]
  },
  {
   "cell_type": "code",
   "execution_count": null,
   "metadata": {},
   "outputs": [],
   "source": []
  }
 ],
 "metadata": {
  "kernelspec": {
   "display_name": "Python 3 (ipykernel)",
   "language": "python",
   "name": "python3"
  },
  "language_info": {
   "codemirror_mode": {
    "name": "ipython",
    "version": 3
   },
   "file_extension": ".py",
   "mimetype": "text/x-python",
   "name": "python",
   "nbconvert_exporter": "python",
   "pygments_lexer": "ipython3",
   "version": "3.10.4"
  },
  "vscode": {
   "interpreter": {
    "hash": "407e90332109578e0065ba18671dbaca2b32e43f8b825728b86719da6231e0a7"
   }
  }
 },
 "nbformat": 4,
 "nbformat_minor": 2
}
